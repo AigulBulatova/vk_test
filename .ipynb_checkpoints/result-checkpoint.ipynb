{
 "cells": [
  {
   "cell_type": "code",
   "execution_count": 1,
   "metadata": {},
   "outputs": [],
   "source": [
    "import pandas as pd\n",
    "import numpy as np\n",
    "from statistics import median, mode\n",
    "import joblib\n",
    "import os"
   ]
  },
  {
   "cell_type": "code",
   "execution_count": 2,
   "metadata": {},
   "outputs": [],
   "source": [
    "def extract_features(row:pd.Series)->pd.Series:\n",
    "    values = np.array(row['values'])\n",
    "    features = {\n",
    "        'feature_median': median(values),\n",
    "        'feature_mode': mode(values),\n",
    "        'feature_q_5': np.quantile(values, 0.05, axis=0),\n",
    "        'feature_q_25': np.quantile(values, 0.25, axis=0),\n",
    "        'feature_q_75': np.quantile(values, 0.75, axis=0),\n",
    "        'feature_q_95': np.quantile(values, 0.95, axis=0),\n",
    "        'feature_std': np.std(values),\n",
    "        '1/feature_q_5': 1/np.quantile(values, 0.05, axis=0),\n",
    "        'feature_q_75**3': np.quantile(values, 0.75, axis=0)**3,\n",
    "        'feature_median**2': median(values)**2,\n",
    "        'feature_mode**3': mode(values)**3\n",
    "    }\n",
    "    return pd.Series(features)"
   ]
  },
  {
   "cell_type": "code",
   "execution_count": 10,
   "metadata": {},
   "outputs": [],
   "source": [
    "with open('fitted_model.pkl', 'rb') as fd:\n",
    "    model = joblib.load(fd) "
   ]
  },
  {
   "cell_type": "code",
   "execution_count": 4,
   "metadata": {},
   "outputs": [],
   "source": [
    "data_test = pd.read_parquet('test.parquet')"
   ]
  },
  {
   "cell_type": "code",
   "execution_count": 5,
   "metadata": {},
   "outputs": [],
   "source": [
    "df_test = data_test.apply(extract_features, axis=1)"
   ]
  },
  {
   "cell_type": "code",
   "execution_count": 16,
   "metadata": {},
   "outputs": [],
   "source": [
    "pred_proba = model.predict_proba(df_test)[:, 1]"
   ]
  },
  {
   "cell_type": "code",
   "execution_count": 18,
   "metadata": {},
   "outputs": [],
   "source": [
    "data_test['score'] = pred_proba"
   ]
  },
  {
   "cell_type": "code",
   "execution_count": 19,
   "metadata": {},
   "outputs": [],
   "source": [
    "data_test[['id', 'score']].to_csv('submission.csv', sep=',', index=False)"
   ]
  },
  {
   "cell_type": "code",
   "execution_count": null,
   "metadata": {},
   "outputs": [],
   "source": []
  }
 ],
 "metadata": {
  "kernelspec": {
   "display_name": "venv",
   "language": "python",
   "name": "python3"
  },
  "language_info": {
   "codemirror_mode": {
    "name": "ipython",
    "version": 3
   },
   "file_extension": ".py",
   "mimetype": "text/x-python",
   "name": "python",
   "nbconvert_exporter": "python",
   "pygments_lexer": "ipython3",
   "version": "3.9.7"
  }
 },
 "nbformat": 4,
 "nbformat_minor": 2
}
