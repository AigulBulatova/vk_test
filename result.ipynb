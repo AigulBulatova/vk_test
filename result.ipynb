{
 "cells": [
  {
   "cell_type": "code",
   "execution_count": 1,
   "metadata": {},
   "outputs": [],
   "source": [
    "import pandas as pd\n",
    "import numpy as np\n",
    "from statistics import median, mode\n",
    "import joblib\n",
    "import os"
   ]
  },
  {
   "cell_type": "code",
   "execution_count": 2,
   "metadata": {},
   "outputs": [],
   "source": [
    "def extract_features(row:pd.Series)->pd.Series:\n",
    "    values = np.array(row['values'])\n",
    "    features = {\n",
    "        'feature_median': median(values),\n",
    "        'feature_mode': mode(values),\n",
    "        'feature_q_5': np.quantile(values, 0.05, axis=0),\n",
    "        'feature_q_25': np.quantile(values, 0.25, axis=0),\n",
    "        'feature_q_75': np.quantile(values, 0.75, axis=0),\n",
    "        'feature_q_95': np.quantile(values, 0.95, axis=0),\n",
    "        'feature_std': np.std(values),\n",
    "        'feature_autocorr': pd.Series(values).autocorr(lag=1),\n",
    "        'feature_q_75**3': np.quantile(values, 0.75, axis=0)**3,\n",
    "        'feature_median**2': median(values)**2,\n",
    "        'feature_autocorr**3': (pd.Series(values).autocorr(lag=1))**3,\n",
    "        '1/feature_q_5': 1/np.quantile(values, 0.05, axis=0)\n",
    "    }\n",
    "    return pd.Series(features)"
   ]
  },
  {
   "cell_type": "code",
   "execution_count": 3,
   "metadata": {},
   "outputs": [],
   "source": [
    "with open('fitted_model.pkl', 'rb') as fd:\n",
    "    model = joblib.load(fd) "
   ]
  },
  {
   "cell_type": "code",
   "execution_count": 4,
   "metadata": {},
   "outputs": [],
   "source": [
    "data_test = pd.read_parquet('test.parquet')"
   ]
  },
  {
   "cell_type": "code",
   "execution_count": 5,
   "metadata": {},
   "outputs": [
    {
     "name": "stderr",
     "output_type": "stream",
     "text": [
      "C:\\Users\\aygul\\AppData\\Local\\Programs\\Python\\Python311\\Lib\\site-packages\\numpy\\lib\\function_base.py:2897: RuntimeWarning: invalid value encountered in divide\n",
      "  c /= stddev[:, None]\n",
      "C:\\Users\\aygul\\AppData\\Local\\Programs\\Python\\Python311\\Lib\\site-packages\\numpy\\lib\\function_base.py:2898: RuntimeWarning: invalid value encountered in divide\n",
      "  c /= stddev[None, :]\n"
     ]
    }
   ],
   "source": [
    "df_test = data_test.apply(extract_features, axis=1)"
   ]
  },
  {
   "cell_type": "code",
   "execution_count": 6,
   "metadata": {},
   "outputs": [],
   "source": [
    "pred_proba = model.predict_proba(df_test)[:, 1]"
   ]
  },
  {
   "cell_type": "code",
   "execution_count": 7,
   "metadata": {},
   "outputs": [],
   "source": [
    "data_test['score'] = pred_proba"
   ]
  },
  {
   "cell_type": "code",
   "execution_count": 8,
   "metadata": {},
   "outputs": [],
   "source": [
    "data_test[['id', 'score']].to_csv('submission.csv', sep=',', index=False)"
   ]
  }
 ],
 "metadata": {
  "kernelspec": {
   "display_name": "Python 3 (ipykernel)",
   "language": "python",
   "name": "python3"
  },
  "language_info": {
   "codemirror_mode": {
    "name": "ipython",
    "version": 3
   },
   "file_extension": ".py",
   "mimetype": "text/x-python",
   "name": "python",
   "nbconvert_exporter": "python",
   "pygments_lexer": "ipython3",
   "version": "3.11.4"
  }
 },
 "nbformat": 4,
 "nbformat_minor": 4
}
